{
 "cells": [
  {
   "cell_type": "code",
   "execution_count": 1,
   "metadata": {},
   "outputs": [],
   "source": [
    "import cv2\n",
    "import matplotlib.pyplot as plt\n",
    "import numpy as np"
   ]
  },
  {
   "cell_type": "code",
   "execution_count": 2,
   "metadata": {},
   "outputs": [],
   "source": [
    "def showimg(img, title=''):\n",
    "    plt.imshow(img, cmap='gray')\n",
    "    if title:\n",
    "        plt.title(f\"{title}\")\n",
    "    plt.show()"
   ]
  },
  {
   "cell_type": "code",
   "execution_count": 107,
   "metadata": {},
   "outputs": [
    {
     "data": {
      "image/png": "[encoded data removed]",
      "text/plain": [
       "<Figure size 432x288 with 1 Axes>"
      ]
     },
     "metadata": {
      "needs_background": "light"
     },
     "output_type": "display_data"
    }
   ],
   "source": [
    "path = '/Users/binhna/Downloads/test/images/finesegment-pts.png'\n",
    "path2 = '/Users/binhna/Downloads/kanji-pts.png'\n",
    "image = cv2.imread(path2, 0)\n",
    "_, img = cv2.threshold(image,0,255,cv2.THRESH_BINARY+cv2.THRESH_OTSU)\n",
    "img = 255 - img\n",
    "showimg(img)"
   ]
  },
  {
   "cell_type": "code",
   "execution_count": 108,
   "metadata": {},
   "outputs": [
    {
     "name": "stdout",
     "output_type": "stream",
     "text": [
      "10\n"
     ]
    },
    {
     "data": {
      "image/png": "[encoded data removed]",
      "text/plain": [
       "<Figure size 432x288 with 1 Axes>"
      ]
     },
     "metadata": {
      "needs_background": "light"
     },
     "output_type": "display_data"
    }
   ],
   "source": [
    "count = 0\n",
    "arr_img = []\n",
    "ret, labels, stats, centroids = cv2.connectedComponentsWithStats(\n",
    "        img.astype(np.uint8), connectivity=8)\n",
    "#stats = sorted(stats, key=lambda x: x[0])\n",
    "for i in range(1, ret):\n",
    "    #if stats[i, cv2.CC_STAT_HEIGHT] >= 0.2*img.shape[0]:\n",
    "    count+=1\n",
    "    new_img = np.zeros_like(img)\n",
    "    new_img[labels == i] = 1\n",
    "    arr_img.append((new_img, stats[i]))\n",
    "    #showimg(new_img)\n",
    "print(count)\n",
    "showimg(img)\n",
    "arr_img = sorted(arr_img, key=lambda x: x[-1][0])\n",
    "\n",
    "#for i in arr_img:\n",
    "#    showimg(i[0])"
   ]
  },
  {
   "cell_type": "code",
   "execution_count": 109,
   "metadata": {},
   "outputs": [],
   "source": [
    "result = []\n",
    "reagion = []\n",
    "tmp = arr_img[0][0]\n",
    "bounding_left, bounding_right = arr_img[0][-1][0], arr_img[0][-1][0]+arr_img[0][-1][2]\n",
    "for i_img in range(len(arr_img) -1):\n",
    "    x2 = arr_img[i_img][-1][0]+arr_img[i_img][-1][2]\n",
    "    #print(x2)\n",
    "    x1 = arr_img[i_img+1][-1][0]\n",
    "    #print(x1)\n",
    "    smaller_width = arr_img[i_img][-1][2] if arr_img[i_img][-1][2] < arr_img[i_img+1][-1][2] else arr_img[i_img+1][-1][2]\n",
    "    #print(smaller_width)\n",
    "    condition = (x2-x1) > 0.5*smaller_width\n",
    "    \n",
    "    #print(condition)\n",
    "    if condition:\n",
    "        bounding_left = min(bounding_left, arr_img[i_img+1][-1][0])\n",
    "        bounding_right = max(bounding_right, arr_img[i_img+1][-1][0]+arr_img[i_img+1][-1][2])\n",
    "        tmp = tmp | arr_img[i_img+1][0]\n",
    "    else:\n",
    "        reagion.append((bounding_left, bounding_right))\n",
    "        result.append(tmp)\n",
    "        tmp = arr_img[i_img+1][0]\n",
    "        bounding_left, bounding_right = arr_img[i_img+1][-1][0], arr_img[i_img+1][-1][0]+arr_img[i_img+1][-1][2]\n",
    "    #if i_img == len(arr_img) - 2 and not condition:\n",
    "    #    result.append(arr_img[-1][0])\n",
    "\n",
    "reagion.append((bounding_left, bounding_right))\n",
    "if condition:\n",
    "    result.append(tmp)\n",
    "else:\n",
    "    result.append(arr_img[-1][0])\n",
    "    \n",
    "    "
   ]
  },
  {
   "cell_type": "code",
   "execution_count": 110,
   "metadata": {},
   "outputs": [
    {
     "data": {
      "image/png": "[encoded data removed]",
      "text/plain": [
       "<Figure size 432x288 with 1 Axes>"
      ]
     },
     "metadata": {
      "needs_background": "light"
     },
     "output_type": "display_data"
    },
    {
     "data": {
      "image/png": "[encoded data removed]",
      "text/plain": [
       "<Figure size 432x288 with 1 Axes>"
      ]
     },
     "metadata": {
      "needs_background": "light"
     },
     "output_type": "display_data"
    }
   ],
   "source": [
    "showimg(img)\n",
    "pad_img = np.zeros_like(img)[:,:90]\n",
    "pad_img[:,50:60] = 1\n",
    "final_result = []\n",
    "for i in range(len(result)):\n",
    "    tmp_img = result[i][:,reagion[i][0]:reagion[i][1]]\n",
    "    final_result.append(tmp_img)\n",
    "    final_result.append(pad_img)\n",
    "im_h = cv2.hconcat(final_result)\n",
    "showimg(255-im_h)"
   ]
  },
  {
   "cell_type": "code",
   "execution_count": 17,
   "metadata": {},
   "outputs": [
    {
     "data": {
      "text/plain": [
       "10"
      ]
     },
     "execution_count": 17,
     "metadata": {},
     "output_type": "execute_result"
    }
   ],
   "source": [
    "len(arr_img)"
   ]
  },
  {
   "cell_type": "code",
   "execution_count": null,
   "metadata": {},
   "outputs": [],
   "source": []
  }
 ],
 "metadata": {
  "kernelspec": {
   "display_name": "Python (conda)",
   "language": "python",
   "name": "ocr"
  },
  "language_info": {
   "codemirror_mode": {
    "name": "ipython",
    "version": 3
   },
   "file_extension": ".py",
   "mimetype": "text/x-python",
   "name": "python",
   "nbconvert_exporter": "python",
   "pygments_lexer": "ipython3",
   "version": "3.7.3"
  }
 },
 "nbformat": 4,
 "nbformat_minor": 2
}
