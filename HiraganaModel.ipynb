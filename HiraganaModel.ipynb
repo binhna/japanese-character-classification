{
 "cells": [
  {
   "cell_type": "code",
   "execution_count": 9,
   "metadata": {},
   "outputs": [],
   "source": [
    "from __future__ import print_function, division\n",
    "import torch\n",
    "import torch.nn as nn\n",
    "import torch.nn.functional as F\n",
    "import torch.optim as optim\n",
    "from torch.autograd import Variable\n",
    "from torch.optim import lr_scheduler\n",
    "\n",
    "import torchvision\n",
    "from torchvision import datasets, models, transforms\n",
    "\n",
    "import time\n",
    "import numpy as np\n",
    "import copy\n",
    "import cv2\n",
    "import matplotlib.pyplot as plt\n",
    "\n",
    "import os\n",
    "import random\n",
    "import numpy as np\n",
    "from PIL import Image\n",
    "import matplotlib.cm as cm\n",
    "\n",
    "hung_maping_j = {0: 'あ', 15: 'い', 30: 'う', 45: 'え', 60: 'お', 75: 'か', 90: 'が', 96: 'き', 111: 'ぎ', 126: 'く', 141: 'ぐ', 156: 'け', 171: 'げ', 186: 'こ', 192: 'ご', 207: 'さ', 222: 'ざ', 237: 'し', 252: 'じ', 267: 'す', 282: 'ず', 288: 'せ', 303: 'ぜ', 318: 'そ', 333: 'ぞ', 348: 'た', 363: 'だ', 377: 'ち', 399: 'つ', 429: 'て', 444: 'で', 459: 'と', 474: 'ど', 479: 'な', 494: 'に', 509: 'ぬ', 524: 'ね', 539: 'の', 554: 'は', 569: 'ば', 575: 'ぱ', 590: 'ひ', 605: 'び', 620: 'ぴ', 635: 'ふ', 650: 'ぶ', 665: 'ぷ', 670: 'へ', 685: 'べ', 700: 'ぺ', 715: 'ほ', 730: 'ぼ', 745: 'ぽ', 760: 'ま', 765: 'み', 780: 'む', 795: 'め', 810: 'も', 825: 'や', 840: 'ゆ', 855: 'よ', 860: 'ら', 875: 'り', 890: 'る', 905: 'れ', 920: 'ろ', 935: 'わ', 955: 'ん', 414: 'づ', 384: 'ぢ', 950: 'を'}\n",
    "hung_maping = {0: 'A', 15: 'I', 30: 'U', 45: 'E', 60: 'O', 75: 'KA', 90: 'GA', 96: 'KI', 111: 'GI', 126: 'KU', 141: 'GU', 156: 'KE', 171: 'GE', 186: 'KO', 192: 'GO', 207: 'SA', 222: 'ZA', 237: 'SHI', 252: 'JI', 267: 'SU', 282: 'ZU', 288: 'SE', 303: 'ZE', 318: 'SO', 333: 'ZO', 348: 'TA', 363: 'DA', 377: 'CHI', 399: 'TSU', 429: 'TE', 444: 'DE', 459: 'TO', 474: 'DO', 479: 'NA', 494: 'NI', 509: 'NU', 524: 'NE', 539: 'NO', 554: 'HA', 569: 'BA', 575: 'PA', 590: 'HI', 605: 'BI', 620: 'PI', 635: 'FU', 650: 'BU', 665: 'PU', 670: 'HE', 685: 'BE', 700: 'PE', 715: 'HO', 730: 'BO', 745: 'PO', 760: 'MA', 765: 'MI', 780: 'MU', 795: 'ME', 810: 'MO', 825: 'YA', 840: 'YU', 855: 'YO', 860: 'RA', 875: 'RI', 890: 'RU', 905: 'RE', 920: 'RO', 935: 'WA', 955: 'N', 414: 'DU', 384: 'DI', 950: 'WO'}\n",
    "class_names = ['0', '111', '126', '141', '15', '156', '171', '186', '192', '207', '222', '237', '252', '267', '282', '288', '30', '303', '318', '333', '348', '363', '377', '384', '399', '414', '429', '444', '45', '459', '474', '479', '494', '509', '524', '539', '554', '569', '575', '590', '60', '605', '620', '635', '650', '665', '670', '685', '700', '715', '730', '745', '75', '760', '765', '780', '795', '810', '825', '840', '855', '860', '875', '890', '90', '905', '920', '935', '950', '955', '96']"
   ]
  },
  {
   "cell_type": "code",
   "execution_count": 14,
   "metadata": {},
   "outputs": [],
   "source": [
    "def showimg(img, title=''):\n",
    "    plt.imshow(img, cmap='gray')\n",
    "    if title:\n",
    "        plt.title(f\"{title}\")\n",
    "    plt.show()"
   ]
  },
  {
   "cell_type": "code",
   "execution_count": 18,
   "metadata": {},
   "outputs": [],
   "source": [
    "def train_test_split(data_dir = 'data', ratio = 0.15):\n",
    "\n",
    "    folders = glob.glob(data_dir)\n",
    "\n",
    "    for i, folder in enumerate(folders):\n",
    "        number = folder.split('/')[-1]\n",
    "        # get all data list\n",
    "        file_names = glob.glob(folder+'/*')\n",
    "\n",
    "        # move 10% of data to test folder\n",
    "        move_files = file_names[:int(len(file_names)*ratio)]\n",
    "        test_dir = 'test/'+number\n",
    "        os.makedirs(test_dir, exist_ok=True)\n",
    "        for f in move_files:\n",
    "            shutil.move(f, test_dir)\n",
    "\n",
    "def prepare_data(data_dir = 'data'):\n",
    "    image_datasets = {x: datasets.ImageFolder(os.path.join(data_dir, x),\n",
    "                                            data_transforms[x])\n",
    "                    for x in ['train', 'test']}\n",
    "    dataloaders = {x: torch.utils.data.DataLoader(image_datasets[x], batch_size=32,\n",
    "                                                shuffle=True)\n",
    "                for x in ['train', 'test']}\n",
    "\n",
    "    dataset_sizes = {x: len(image_datasets[x]) for x in ['train', 'test']}\n",
    "    class_names = image_datasets['train'].classes"
   ]
  },
  {
   "cell_type": "code",
   "execution_count": 2,
   "metadata": {},
   "outputs": [],
   "source": [
    "data_transforms = {\n",
    "    'train': transforms.Compose([\n",
    "        # transforms.RandomResizedCrop(64),\n",
    "        transforms.Resize((64, 64), Image.LANCZOS),\n",
    "        # transforms.RandomHorizontalFlip(),\n",
    "        transforms.ToTensor(),\n",
    "        transforms.Normalize([0.485, 0.456, 0.406], [0.229, 0.224, 0.225]),\n",
    "        # transforms.Normalize([0.5], [0.5])\n",
    "    ]),\n",
    "    'test': transforms.Compose([\n",
    "        transforms.Resize((64, 64), Image.LANCZOS),\n",
    "        # transforms.CenterCrop(224),\n",
    "        transforms.ToTensor(),\n",
    "        transforms.Normalize([0.485, 0.456, 0.406], [0.229, 0.224, 0.225]),\n",
    "        # transforms.Normalize([0.5], [0.5])\n",
    "    ]),\n",
    "}"
   ]
  },
  {
   "cell_type": "code",
   "execution_count": 3,
   "metadata": {},
   "outputs": [],
   "source": [
    "def get_default_device():\n",
    "    if torch.cuda.is_available():\n",
    "        return torch.device('cuda')\n",
    "    else:\n",
    "        return torch.device('cpu')\n",
    "\n",
    "def to_device(data, device):\n",
    "    if isinstance(data, (list, tuple)):\n",
    "        return [to_device(x, device) for x in data]\n",
    "    return data.to(device, non_blocking=True)\n",
    "\n",
    "class DeviceDataLoader():\n",
    "    \"\"\"Wrap a dataloader to move data to a device\"\"\"\n",
    "    def __init__(self, dl, device):\n",
    "        self.dl = dl\n",
    "        self.device = device\n",
    "    def __iter__(self):\n",
    "        for b in self.dl:\n",
    "            yield to_device(b, self.device)\n",
    "    def __len__(self):\n",
    "        return len(self.dl)\n",
    "\n",
    "\n",
    "device = get_default_device()"
   ]
  },
  {
   "cell_type": "code",
   "execution_count": 7,
   "metadata": {},
   "outputs": [
    {
     "data": {
      "text/plain": [
       "True"
      ]
     },
     "execution_count": 7,
     "metadata": {},
     "output_type": "execute_result"
    }
   ],
   "source": [
    "device.type == 'cpu'"
   ]
  },
  {
   "cell_type": "code",
   "execution_count": 10,
   "metadata": {},
   "outputs": [],
   "source": [
    "class Net(nn.Module):\n",
    "    def __init__(self):\n",
    "        super(Net, self).__init__()\n",
    "        self.conv1 = nn.Conv2d(3, 32, 3)    \n",
    "        self.conv2 = nn.Conv2d(32, 64, 3)   \n",
    "        self.pool = nn.MaxPool2d(2, 2)\n",
    "        self.dropout1 = nn.Dropout2d()\n",
    "        self.fc1 = nn.Linear(30 * 30 * 64, 128)\n",
    "        self.dropout2 = nn.Dropout2d()\n",
    "        self.fc2 = nn.Linear(128, len(class_names))\n",
    "\n",
    "    def forward(self, x):\n",
    "        x = F.relu(self.conv1(x))\n",
    "        x = self.pool(F.relu(self.conv2(x)))\n",
    "        x = self.dropout1(x)\n",
    "        x = x.view(-1, 30 * 30 * 64)\n",
    "        x = F.relu(self.fc1(x))\n",
    "        x = self.dropout2(x)\n",
    "        x = self.fc2(x)\n",
    "        return x"
   ]
  },
  {
   "cell_type": "code",
   "execution_count": 11,
   "metadata": {},
   "outputs": [],
   "source": [
    "def train(net, lr=0.0005, momentum=0.99, epoch=30):\n",
    "\n",
    "    # define loss function and optimier\n",
    "    criterion = nn.CrossEntropyLoss()\n",
    "    optimizer = optim.SGD(net.parameters(), lr=lr, momentum=momentum, nesterov=True)\n",
    "\n",
    "    # train\n",
    "    net.train()\n",
    "    for epoch in range(epoch):\n",
    "        running_loss = 0.0\n",
    "        for i, (inputs, labels) in enumerate(dataloaders['train']):\n",
    "            # zero the parameter gradients\n",
    "            optimizer.zero_grad()\n",
    "\n",
    "            # forward + backward + optimize\n",
    "            outputs = net(inputs)\n",
    "            loss = criterion(outputs, labels)\n",
    "            loss.backward()\n",
    "            optimizer.step()\n",
    "\n",
    "            # print statistics\n",
    "            running_loss += loss.item()\n",
    "            if i % 100 == 99:\n",
    "                print('[{:d}, {:5d}] loss: {:.3f}'\n",
    "                      .format(epoch+1, i+1, running_loss/100))\n",
    "                running_loss = 0.0\n",
    "        torch.save(net.state_dict(), 'model.pth')\n",
    "        torch.save(optimizer.state_dict(), 'optimizer.pth')\n",
    "    print('Finished Training')\n",
    "\n",
    "    # test\n",
    "    correct = 0\n",
    "    total = 0\n",
    "    net.eval()\n",
    "    with torch.no_grad():\n",
    "        for (inputs, labels) in dataloaders['test']:\n",
    "            outputs = net(inputs)\n",
    "            _, predicted = torch.max(outputs.data, 1)\n",
    "            total += labels.size(0)\n",
    "            correct += (predicted == labels).sum().item()\n",
    "    print('Accuracy: {:.2f} %'.format(100 * float(correct/total)))\n",
    "\n",
    "def predict_sample(net):\n",
    "    state_dict = torch.load(\"model.pth\")\n",
    "    net.load_state_dict(state_dict)\n",
    "    \n",
    "    dataiter = iter(dataloaders['train'])\n",
    "    inputs, labels = dataiter._next_()\n",
    "\n",
    "    with torch.no_grad():\n",
    "        output = net(inputs)\n",
    "    \n",
    "    fig = plt.figure()\n",
    "    for i in range(6):\n",
    "        plt.subplot(2,3,i+1)\n",
    "        plt.tight_layout()\n",
    "        plt.imshow(inputs[i][0], cmap='gray', interpolation='none')\n",
    "        plt.title(\"Prediction:{}-Truth:{}\".format(\n",
    "            output.data.max(1, keepdim=True)[1][i].item(), labels.data[i].item()))\n",
    "        plt.xticks([])\n",
    "        plt.yticks([])\n",
    "    fig\n",
    "    plt.show()"
   ]
  },
  {
   "cell_type": "code",
   "execution_count": 16,
   "metadata": {},
   "outputs": [],
   "source": [
    "def predict(net, image_path = '', bin=False, black=False):\n",
    "    img = cv2.imread(image_path, cv2.IMREAD_GRAYSCALE)\n",
    "    \n",
    "    def image_loader(image_name, bin=False, black=False):\n",
    "        #load image, returns cuda tensor\n",
    "        loader = data_transforms['test']\n",
    "        image = Image.open(image_name)\n",
    "        if bin:\n",
    "            image = cv2.imread(image_name, 0)\n",
    "            if black:\n",
    "                image = 255 - image\n",
    "            _,bw_im = cv2.threshold(image,0,255,cv2.THRESH_BINARY+cv2.THRESH_OTSU)\n",
    "            image = Image.fromarray(np.uint8(cm.gist_earth(bw_im)*255))\n",
    "        image = image.convert(\"RGB\")\n",
    "        #image = image.resize((64, 64))\n",
    "        showimg(image)\n",
    "        print('after reading image', image.size)\n",
    "        image = loader(image).float()\n",
    "        #image = image.type(torch.cuda.FloatTensor)\n",
    "        #image = DeviceDataLoader(image, device)\n",
    "        #print(image)\n",
    "        image = Variable(image, requires_grad=False)\n",
    "        #print(image)\n",
    "        image = image.unsqueeze(0)  #this is for VGG, may not be needed for ResNet\n",
    "        print('final size', image.shape)\n",
    "        return image  #assumes that you're using GPU\n",
    "    \n",
    "    image = image_loader(image_path, bin, black)\n",
    "    # print(image)\n",
    "    with torch.no_grad():\n",
    "        output = net(image)\n",
    "        #print(output)\n",
    "    _, predicted = torch.max(output.data, 1)\n",
    "    result = int(class_names[predicted.item()])\n",
    "    showimg(img, hung_maping[result])\n",
    "    print(f\"PREDICTION: {hung_maping_j[result]}\")\n",
    "    #print(index_labels[predicted.item()])"
   ]
  },
  {
   "cell_type": "code",
   "execution_count": 17,
   "metadata": {},
   "outputs": [
    {
     "data": {
      "image/png": "[encoded data removed]",
      "text/plain": [
       "<Figure size 432x288 with 1 Axes>"
      ]
     },
     "metadata": {
      "needs_background": "light"
     },
     "output_type": "display_data"
    },
    {
     "name": "stdout",
     "output_type": "stream",
     "text": [
      "after reading image (308, 304)\n",
      "final size torch.Size([1, 3, 64, 64])\n"
     ]
    },
    {
     "data": {
      "image/png": "[encoded data removed]",
      "text/plain": [
       "<Figure size 432x288 with 1 Axes>"
      ]
     },
     "metadata": {
      "needs_background": "light"
     },
     "output_type": "display_data"
    },
    {
     "name": "stdout",
     "output_type": "stream",
     "text": [
      "PREDICTION: ゆ\n"
     ]
    }
   ],
   "source": [
    "if __name__ == '__main__':\n",
    "    \n",
    "    net = Net()\n",
    "    to_device(net, device)\n",
    "    \n",
    "    #for training\n",
    "    #start_time = time.time()\n",
    "    #train(net)\n",
    "    #predict_sample(net)\n",
    "    #print('Elapsed time: {:.3f} [sec]'.format(time.time() - start_time))\n",
    "    \n",
    "    #for predicting a single image\n",
    "    if device.type == 'cpu':\n",
    "        state_dict = torch.load('/Users/binhna/Downloads/model.pth', map_location=lambda storage, loc: storage)\n",
    "    else:\n",
    "        state_dict = torch.load('/Users/binhna/Downloads/model.pth')\n",
    "    net.load_state_dict(state_dict)\n",
    "    net.eval()\n",
    "    \n",
    "    # IMPORTANCE!!! args are: \n",
    "    #the model\n",
    "    #image path\n",
    "    #if the original image is not bin ==> bin should be TRUE\n",
    "    # if the original image background is in white ==> black should be True \n",
    "    \n",
    "    predict(net, '/Users/binhna/Desktop/test18.png', True, True)"
   ]
  },
  {
   "cell_type": "code",
   "execution_count": null,
   "metadata": {},
   "outputs": [],
   "source": []
  }
 ],
 "metadata": {
  "kernelspec": {
   "display_name": "Python 3",
   "language": "python",
   "name": "python3"
  },
  "language_info": {
   "codemirror_mode": {
    "name": "ipython",
    "version": 3
   },
   "file_extension": ".py",
   "mimetype": "text/x-python",
   "name": "python",
   "nbconvert_exporter": "python",
   "pygments_lexer": "ipython3",
   "version": "3.7.3"
  }
 },
 "nbformat": 4,
 "nbformat_minor": 2
}
