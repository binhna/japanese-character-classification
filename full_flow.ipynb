{
 "cells": [
  {
   "cell_type": "code",
   "execution_count": 20,
   "metadata": {},
   "outputs": [],
   "source": [
    "# RESTORE THE MODEL\n",
    "from keras.models import model_from_json\n",
    "from keras.preprocessing import image\n",
    "import pickle\n",
    "import cv2\n",
    "\n",
    "def load_model(ar_path, w_path, cls_id_path):\n",
    "    json_file = open(ar_path, 'r')\n",
    "    loaded_model_json = json_file.read()\n",
    "    json_file.close()\n",
    "    loaded_model = model_from_json(loaded_model_json)\n",
    "    loaded_model.load_weights(w_path)\n",
    "    loaded_model.compile(loss='categorical_crossentropy', optimizer='adadelta', metrics=['accuracy'])\n",
    "    \n",
    "    with open(cls_id_path, 'rb') as handle:\n",
    "        class2id = pickle.load(handle)\n",
    "    # output result --> class number\n",
    "    i2cls = {}\n",
    "    for cls, i in class2id.items():\n",
    "        i2cls[i] = int(cls)\n",
    "    print(\"Restore model success\")\n",
    "    return loaded_model, i2cls\n"
   ]
  },
  {
   "cell_type": "code",
   "execution_count": 2,
   "metadata": {},
   "outputs": [],
   "source": [
    "# Indices to labels\n",
    "# need this because the output now is just a number\n",
    "# i2label = {number: image}\n",
    "with open('i2label.pkl', 'rb') as handle:\n",
    "    i2label_kanji = pickle.load(handle)"
   ]
  },
  {
   "cell_type": "code",
   "execution_count": 57,
   "metadata": {},
   "outputs": [],
   "source": [
    "def predict(img, model, i2cls, name='kanji'):\n",
    "    #img = image.load_img(path=f'/Users/binhna/Downloads/test_image/kanji41.png',\n",
    "    #                     grayscale=True, target_size = (64,64))\n",
    "    #showimg(img, 'gold')\n",
    "    #img = image.img_to_array(img)\n",
    "    #img = img.astype(np.uint8)\n",
    "    #_, img = cv2.threshold(img, 0, 255, cv2.THRESH_BINARY + cv2.THRESH_OTSU)\n",
    "    img = cv2.resize(img, dsize=(64, 64), interpolation=cv2.INTER_CUBIC)\n",
    "    img = img.astype(np.float32)\n",
    "    img = np.expand_dims(img, axis=0)\n",
    "    img = np.expand_dims(img, axis=-1)\n",
    "    result = model.predict_classes(img)\n",
    "    print(f\"class number: {result}\")\n",
    "    #showimg(i2label[i2cls[int(result)]], 'predict')\n",
    "    #print(i2cls[int(result)])\n",
    "    if name == 'kanji':\n",
    "        return i2label_kanji[i2cls[int(result)]]\n",
    "    else:\n",
    "        return i2cls[int(result)]"
   ]
  },
  {
   "cell_type": "code",
   "execution_count": 4,
   "metadata": {},
   "outputs": [],
   "source": [
    "import cv2\n",
    "import numpy as np\n",
    "import matplotlib.pyplot as plt\n",
    "from scipy.signal import find_peaks\n",
    "from utils import close_morphology, naive_seg, smooth\n",
    "\n",
    "class Splitter(object):\n",
    "    def __init__(self):\n",
    "        self.final_result = None\n",
    "\n",
    "    def _compute_text_height(self, im):\n",
    "        #closing morphology\n",
    "        closing = close_morphology(im)\n",
    "        #horizontal projection\n",
    "        h_proj = np.sum(closing, axis=1)\n",
    "        #compute text height\n",
    "        sum_h_proj = np.sum(h_proj)\n",
    "        max_h_proj = np.amax(h_proj)\n",
    "        max_h_proj_idx = np.where(h_proj == max_h_proj)[0][0]\n",
    "        cumsum = max_h_proj\n",
    "        th_arr = np.array([max_h_proj_idx]) # text_height_arr\n",
    "        while cumsum < (sum_h_proj * 0.99):\n",
    "            left = h_proj[th_arr[0]]\n",
    "            right = h_proj[th_arr[-1]]\n",
    "            if left > right:\n",
    "                cumsum += left\n",
    "                th_arr = np.append(th_arr[0] - 1, th_arr)\n",
    "            else:\n",
    "                cumsum += right\n",
    "                th_arr = np.append(th_arr, th_arr[-1] + 1)\n",
    "        text_height = th_arr[-1] - th_arr[0]\n",
    "        print(text_height)\n",
    "        return text_height\n",
    "\n",
    "    def _get_vertical_profile(self, im):\n",
    "        v_prof = np.sum((255-im), axis=0)\n",
    "        smoothed_prof = smooth(v_prof, 9)\n",
    "        plt.plot(smoothed_prof)\n",
    "        plt.show()\n",
    "        return smoothed_prof\n",
    "\n",
    "    def _segment_zero(self, v_proj_s):\n",
    "        ''' Find all segment boundary lines '''\n",
    "        flag = True\n",
    "        tmp = []\n",
    "        for i, value in enumerate(v_proj_s):\n",
    "            if value != 0 and not flag:\n",
    "                tmp.append(i-1)\n",
    "            if value == 0. and flag:\n",
    "                tmp.append(i)\n",
    "                flag = False\n",
    "            flag = True if value != 0. else False\n",
    "        # Add 0 and len(vertical projection) to the list\n",
    "        tmp.insert(0, 0) if 0 not in tmp else ''\n",
    "        tmp.insert(len(tmp), len(v_proj_s) - 1) if len(v_proj_s) - \\\n",
    "            1 not in tmp else ''\n",
    "        print('Number of zero segmentns: ' + str(len(tmp)))\n",
    "        return tmp\n",
    "\n",
    "    def _find_oversize(self, tmp, text_height, v_prof, ratio=0.8):\n",
    "        ''' Find vertical boundary lines of oversized segments '''\n",
    "        thres = round(text_height*ratio)\n",
    "        oversize_seg = []\n",
    "        if v_prof[0] == 0.:\n",
    "            start = 1\n",
    "        else:\n",
    "            start = 0\n",
    "        for i in range(start, len(tmp) - 1, 2):\n",
    "            if tmp[i+1] - tmp[i] > thres:\n",
    "                oversize_seg.append(tmp[i])\n",
    "                oversize_seg.append(tmp[i+1])\n",
    "        print('Number of oversize segments: ' + str(len(oversize_seg)))\n",
    "        return oversize_seg\n",
    "\n",
    "    def _find_local_max(self, v_prof, oversize_seg, text_height):\n",
    "        ''' Find x-coordinate of local maxima in oversize segment '''\n",
    "        local_max_arr = []\n",
    "        for i in range(0, len(oversize_seg) - 1, 2):\n",
    "            start, end = oversize_seg[i], oversize_seg[i+1]\n",
    "            peaks, _ = find_peaks(v_prof[start:end], distance=text_height*0.5)\n",
    "            peaks += start\n",
    "            local_max_arr.append(peaks.tolist())\n",
    "            for i in peaks:\n",
    "                plt.axvline(x=i, color='g', linestyle='-')\n",
    "        for i in oversize_seg:\n",
    "            plt.axvline(x=i, color='r', linestyle='-')\n",
    "        plt.show()\n",
    "        print('Number of local maxima: ' + str(len(local_max_arr)))\n",
    "        return local_max_arr\n",
    "\n",
    "    def _smart_seg(self, arr_img, debug=False):\n",
    "        ''' Split characters in image '''\n",
    "        result = []\n",
    "        regions = []\n",
    "        tmp = arr_img[0][0]  # <- first CC\n",
    "        bounding_left, bounding_right = arr_img[0][-1][0], arr_img[0][-1][0] + \\\n",
    "            arr_img[0][-1][2]\n",
    "        bounding_top, bounding_bottom = arr_img[0][-1][1], arr_img[0][-1][1] + \\\n",
    "            arr_img[0][-1][3]\n",
    "        condition = True\n",
    "        for i_img in range(len(arr_img) - 1):\n",
    "            i_next = i_img + 1\n",
    "            x2 = bounding_right\n",
    "            x1 = arr_img[i_next][-1][0]\n",
    "            current_width = bounding_right - bounding_left\n",
    "            current_height = bounding_bottom - bounding_top\n",
    "            smaller_width = current_width if current_width < arr_img[\n",
    "                i_next][-1][2] else arr_img[i_next][-1][2]\n",
    "            smaller_height = current_height if current_height < arr_img[i_next][-1][3] else arr_img[i_next][-1][3]\n",
    "            \n",
    "            y_bottom_next = arr_img[i_next][-1][1] + arr_img[i_next][-1][3]\n",
    "            tenten = arr_img[i_next][-1][3] < 0.45*(bounding_bottom - bounding_top) \\\n",
    "            and x1 - x2 < smaller_width*0.5\n",
    "            # and y_bottom_next < 0.7*current_height+bounding_top \\\n",
    "            # and (y_bottom_next - bounding_top) > 0.5*smaller_height \\\n",
    "            #print(f\"{arr_img[i_next][-1][3] < 0.45*(bounding_bottom - bounding_top)} \\\n",
    "            #{x1 - x2 < smaller_width*0.5} - {x1}\")\n",
    "            \"\"\"print(f\"{arr_img[i_next][-1][3] < 0.45*(bounding_bottom - bounding_top)} \\\n",
    "            {(y_bottom_next - bounding_top) > 0.5*smaller_height} \\\n",
    "            {y_bottom_next < 0.6*current_height+bounding_top} \\\n",
    "            {x1 - x2 < smaller_width*0.5} - {x1} - {arr_img[i_next][-1][3]}, {0.3*(bounding_bottom - bounding_top)}\")\"\"\"\n",
    "            # print(f\"Debug tenten: {arr_img[i_next][-1][3]}, {bounding_bottom - bounding_top}, {y_bottom_next - bounding_top}, {smaller_height}\")\n",
    "            \n",
    "            condition = (x2-x1) > 0.5*smaller_width or tenten\n",
    "            if condition:\n",
    "                bounding_left = min(bounding_left, arr_img[i_next][-1][0])\n",
    "                bounding_top = min(bounding_top, arr_img[i_next][-1][1])\n",
    "                bounding_right = max(\n",
    "                    bounding_right, arr_img[i_next][-1][0]+arr_img[i_next][-1][2])\n",
    "                bounding_bottom = max(\n",
    "                    bounding_bottom, arr_img[i_next][-1][1]+arr_img[i_next][-1][3])\n",
    "                tmp = tmp | arr_img[i_next][0]\n",
    "            else:\n",
    "                regions.append((bounding_left, bounding_top,\n",
    "                            bounding_right, bounding_bottom))\n",
    "                result.append(tmp)\n",
    "                tmp = arr_img[i_next][0]\n",
    "                bounding_left, bounding_right = arr_img[i_next][-1][0], arr_img[i_next][-1][0] + \\\n",
    "                    arr_img[i_next][-1][2]\n",
    "                bounding_top, bounding_bottom = arr_img[i_next][-1][1], arr_img[i_next][-1][1] + \\\n",
    "                    arr_img[i_next][-1][3]\n",
    "        regions.append((bounding_left, bounding_top,\n",
    "                    bounding_right, bounding_bottom))\n",
    "        if condition:\n",
    "            result.append(tmp)\n",
    "        else:\n",
    "            result.append(arr_img[-1][0])\n",
    "        print('Number of smart seg: ' + str(len(result)))\n",
    "        return result, regions\n",
    "\n",
    "    def _remove_padding(self, res, regions):\n",
    "        ''' Filter small CCs and remove padding around characters '''\n",
    "        final_result = []\n",
    "        for i in range(len(regions)):\n",
    "            x1 = regions[i][0]\n",
    "            y1 = regions[i][1]\n",
    "            x2 = regions[i][2]\n",
    "            y2 = regions[i][3]\n",
    "            if (x2-x1 > 3).any() and (y2-y1 > 3).any():\n",
    "                cut = res[i][y1:y2, x1:x2]\n",
    "                small = 0 if cut.shape[0] < cut.shape[1] else 1\n",
    "                large = 1 - small\n",
    "                padding = (cut.shape[large] - cut.shape[small])//2\n",
    "                padding = np.zeros((padding, cut.shape[large])) if large else np.zeros(\n",
    "                    (cut.shape[large], padding))\n",
    "                tmp_img = np.concatenate(\n",
    "                    (padding, cut, padding), axis=small)\n",
    "                final_result.append(tmp_img)\n",
    "        return final_result\n",
    "\n",
    "    def split(self, im, debug = False):\n",
    "        text_height = self._compute_text_height(im)\n",
    "        v_prof = self._get_vertical_profile(im)\n",
    "        boundary_seg = self._segment_zero(v_prof)\n",
    "        plt.imshow(im, cmap='gray')\n",
    "        for i in boundary_seg:\n",
    "            plt.axvline(x=i, color='r', linestyle='-')\n",
    "        plt.show()\n",
    "\n",
    "        oversize_seg = self._find_oversize(boundary_seg, text_height, v_prof, 0.8)\n",
    "        plt.imshow(im, cmap='gray')\n",
    "        for i in oversize_seg:\n",
    "            plt.axvline(x=i, color='r', linestyle='-')\n",
    "        plt.show()\n",
    "\n",
    "        local_max_arr = self._find_local_max(v_prof, oversize_seg, text_height)\n",
    "        im_arr = naive_seg(255-im, debug)\n",
    "\n",
    "        result, regions = self._smart_seg(im_arr)\n",
    "        final_result = self._remove_padding(result, regions)\n",
    "        return final_result\n"
   ]
  },
  {
   "cell_type": "code",
   "execution_count": 44,
   "metadata": {},
   "outputs": [],
   "source": [
    "import cv2\n",
    "import numpy as np\n",
    "from scipy.signal import find_peaks\n",
    "import matplotlib.pyplot as plt\n",
    "\n",
    "def showimg(img, title=''):\n",
    "    plt.imshow(img, cmap='gray')\n",
    "    plt.title(f\"{title}\")\n",
    "    plt.show()\n",
    "\n",
    "def naive_seg(im, debug=False):\n",
    "    ''' split input image to a list of segments in ascending order of x-coordinate '''\n",
    "    count = 0\n",
    "    im_arr = []\n",
    "    ret, labels, stats, centroids = cv2.connectedComponentsWithStats( im.astype(np.uint8), connectivity=8)\n",
    "    for i in range(1, ret):\n",
    "        if(stats[i][cv2.CC_STAT_WIDTH] > 3).any() and (stats[i][cv2.CC_STAT_HEIGHT] > 3).any():\n",
    "            count+=1\n",
    "            new_im = np.zeros_like(im)\n",
    "            new_im[labels == i] = 255\n",
    "            im_arr.append((new_im, stats[i]))\n",
    "    im_arr = sorted(im_arr, key=lambda x: x[-1][0])\n",
    "    print('Number of naive seg: ' + str(len(im_arr)))\n",
    "\n",
    "    if debug:\n",
    "        img_debug = 255 - im.copy()\n",
    "        for i in im_arr:\n",
    "            x, y, w, h = i[1][:4]\n",
    "            im2 = cv2.rectangle(img_debug, (x, y), (x+w, y+h), (0, 255, 0), 1)\n",
    "        showimg(im2, 'Debug - Naive')\n",
    "    return im_arr\n",
    "\n",
    "def close_morphology(im):\n",
    "    ''' Closing morphology '''\n",
    "    kernel = np.ones((3,20), np.uint8)\n",
    "    closing = cv2.morphologyEx(im, cv2.MORPH_CLOSE, kernel)\n",
    "    return closing\n",
    "\n",
    "def smooth(prof, kernel = 7):\n",
    "    ''' Smooth out a profile using moving average '''\n",
    "    padd = int((kernel-1)/2)\n",
    "    v_proj = np.concatenate([[0.]*padd, prof, [0.]*padd])\n",
    "    v_proj_s = [sum(v_proj[i:i+kernel])/7. for i, element in enumerate(v_proj[:-kernel+1])]\n",
    "    v_proj_s = np.asarray(v_proj_s, dtype=np.float32)\n",
    "    return v_proj_s\n"
   ]
  },
  {
   "cell_type": "code",
   "execution_count": 6,
   "metadata": {},
   "outputs": [],
   "source": [
    "def to_bin(path):\n",
    "    image = cv2.imread(path, 0)\n",
    "    _, image = cv2.threshold(image, 0, 255, cv2.THRESH_BINARY+cv2.THRESH_OTSU)\n",
    "    return image\n",
    "\n",
    "def showimg(img, title=''):\n",
    "    plt.imshow(img, cmap='gray')\n",
    "    plt.title(f\"{title}\")\n",
    "    plt.show()"
   ]
  },
  {
   "cell_type": "code",
   "execution_count": 22,
   "metadata": {},
   "outputs": [
    {
     "name": "stdout",
     "output_type": "stream",
     "text": [
      "Restore model success\n"
     ]
    }
   ],
   "source": [
    "# KANJI MODEL\n",
    "kanji_json = '/Users/binhna/Downloads/JRead/engine/saved_models/kanji_model_keras.json'\n",
    "kanji_weight = \"/Users/binhna/Downloads/JRead/engine/saved_models/kanji_model_keras.h5\"\n",
    "kanji_class_indices = '/Users/binhna/Downloads/JRead/engine/saved_models/class_indices_kanji.pickle'\n",
    "kanji_model, i2cls_kanji = load_model(kanji_json, kanji_weight, kanji_class_indices)"
   ]
  },
  {
   "cell_type": "code",
   "execution_count": 21,
   "metadata": {},
   "outputs": [
    {
     "name": "stdout",
     "output_type": "stream",
     "text": [
      "Restore model success\n"
     ]
    }
   ],
   "source": [
    "# KATAKANA MODEL\n",
    "kata_json = '/Users/binhna/Downloads/JRead/engine/saved_models/katakana_model_keras.json'\n",
    "kata_weight = \"/Users/binhna/Downloads/JRead/engine/saved_models/katakana_model_keras.h5\"\n",
    "kata_class_indices = '/Users/binhna/Downloads/JRead/engine/saved_models/kata_class_indices.pickle'\n",
    "kata_model, i2cls_kata = load_model(kata_json, kata_weight, kata_class_indices)\n",
    "code_label_kata = {185: 'ケ', 186: 'コ', 187: 'サ', 188: 'シ', 189: 'ス', 190: 'セ', 191: 'ソ', 192: 'タ', 177: 'ア', 178: 'イ', 179: 'ウ', 180: 'エ', 181: 'オ', 182: 'カ', 183: 'キ', 184: 'ク', 193: 'チ', 194: 'ツ', 195: 'テ', 196: 'ト', 197: 'ナ', 198: 'ニ', 199: 'ヌ', 200: 'ネ', 170: 'ヱ', 166: 'ヲ', 221: 'ン', 215: 'ラ', 216: 'リ', 217: 'ル', 218: 'レ', 219: 'ロ', 220: 'ワ', 168: 'ヰ', 201: 'ノ', 202: 'ハ', 203: 'ヒ', 204: 'フ', 205: 'ヘ', 206: 'ホ', 207: 'マ', 208: 'ミ', 209: 'ム', 210: 'メ', 211: 'モ', 212: 'ヤ', 213: 'ユ', 214: 'ヨ'}\n",
    "\n"
   ]
  },
  {
   "cell_type": "code",
   "execution_count": 23,
   "metadata": {},
   "outputs": [
    {
     "name": "stdout",
     "output_type": "stream",
     "text": [
      "<class 'keras.engine.sequential.Sequential'>\n"
     ]
    }
   ],
   "source": [
    "print(type(kanji_model))"
   ]
  },
  {
   "cell_type": "code",
   "execution_count": 33,
   "metadata": {},
   "outputs": [],
   "source": [
    "splt = Splitter()\n",
    "\n",
    "def app(img_path, model, i2cls, name='kanji'):\n",
    "    image = to_bin(img_path)\n",
    "\n",
    "    im_arr = naive_seg(255-image)\n",
    "    result, regions = splt._smart_seg(im_arr)\n",
    "\n",
    "    img_debug = image.copy()\n",
    "    for r in regions:\n",
    "        x1, y1, x2, y2 = r\n",
    "        im2 = cv2.rectangle(img_debug, (x1, y1), (x2, y2), (0, 255, 0), 5)\n",
    "        # showimg(img_debug[y1:y2, x1:x2])\n",
    "    showimg(im2, 'Debug - Smart')\n",
    "    \n",
    "    vis = np.ones(shape=[103, 1], dtype=np.uint8)*255\n",
    "    final = f''\n",
    "    for i, r in zip(result, regions):\n",
    "        x1, y1, x2, y2 = r\n",
    "        #print(i[y1:y2, x1:x2].shape)\n",
    "        # print(255 - i[y1:y2, x1:x2])\n",
    "        tmp = predict(255 - i[y1:y2, x1:x2], model, i2cls, name)\n",
    "        if name == 'kanji':\n",
    "            vis = np.concatenate((vis, tmp), axis=1)\n",
    "        elif name == 'kata':\n",
    "            final+=f\"{code_label_kata[tmp]} \"\n",
    "        else:\n",
    "            final+=f\"{code_label_hira[tmp]} \"\n",
    "    showimg(image, 'input')\n",
    "    if name == 'kanji':\n",
    "        showimg(vis, 'output')\n",
    "    else:\n",
    "        print(final)"
   ]
  },
  {
   "cell_type": "code",
   "execution_count": 64,
   "metadata": {},
   "outputs": [
    {
     "name": "stdout",
     "output_type": "stream",
     "text": [
      "Number of naive seg: 10\n",
      "Number of smart seg: 6\n"
     ]
    },
    {
     "data": {
      "image/png": "[encoded data removed]",
      "text/plain": [
       "<Figure size 432x288 with 1 Axes>"
      ]
     },
     "metadata": {
      "needs_background": "light"
     },
     "output_type": "display_data"
    },
    {
     "name": "stdout",
     "output_type": "stream",
     "text": [
      "class number: [47]\n",
      "class number: [47]\n",
      "class number: [41]\n",
      "class number: [19]\n",
      "class number: [45]\n",
      "class number: [5]\n"
     ]
    },
    {
     "data": {
      "image/png": "[encoded data removed]",
      "text/plain": [
       "<Figure size 432x288 with 1 Axes>"
      ]
     },
     "metadata": {
      "needs_background": "light"
     },
     "output_type": "display_data"
    },
    {
     "name": "stdout",
     "output_type": "stream",
     "text": [
      "ン ン ラ チ ロ ウ \n",
      "Number of naive seg: 2\n",
      "Number of smart seg: 2\n"
     ]
    },
    {
     "data": {
      "image/png": "[encoded data removed]",
      "text/plain": [
       "<Figure size 432x288 with 1 Axes>"
      ]
     },
     "metadata": {
      "needs_background": "light"
     },
     "output_type": "display_data"
    },
    {
     "name": "stdout",
     "output_type": "stream",
     "text": [
      "class number: [9]\n",
      "class number: [18]\n"
     ]
    },
    {
     "data": {
      "image/png": "[encoded data removed]",
      "text/plain": [
       "<Figure size 432x288 with 1 Axes>"
      ]
     },
     "metadata": {
      "needs_background": "light"
     },
     "output_type": "display_data"
    },
    {
     "name": "stdout",
     "output_type": "stream",
     "text": [
      "キ タ \n",
      "Number of naive seg: 3\n",
      "Number of smart seg: 3\n"
     ]
    },
    {
     "data": {
      "image/png": "[encoded data removed]",
      "text/plain": [
       "<Figure size 432x288 with 1 Axes>"
      ]
     },
     "metadata": {
      "needs_background": "light"
     },
     "output_type": "display_data"
    },
    {
     "name": "stdout",
     "output_type": "stream",
     "text": [
      "class number: [44]\n",
      "class number: [5]\n",
      "class number: [25]\n"
     ]
    },
    {
     "data": {
      "image/png": "[encoded data removed]",
      "text/plain": [
       "<Figure size 432x288 with 1 Axes>"
      ]
     },
     "metadata": {
      "needs_background": "light"
     },
     "output_type": "display_data"
    },
    {
     "name": "stdout",
     "output_type": "stream",
     "text": [
      "レ ウ ヌ \n",
      "Number of naive seg: 3\n",
      "Number of smart seg: 3\n"
     ]
    },
    {
     "data": {
      "image/png": "[encoded data removed]",
      "text/plain": [
       "<Figure size 432x288 with 1 Axes>"
      ]
     },
     "metadata": {
      "needs_background": "light"
     },
     "output_type": "display_data"
    },
    {
     "name": "stdout",
     "output_type": "stream",
     "text": [
      "class number: [26]\n",
      "class number: [15]\n",
      "class number: [38]\n"
     ]
    },
    {
     "data": {
      "image/png": "[encoded data removed]",
      "text/plain": [
       "<Figure size 432x288 with 1 Axes>"
      ]
     },
     "metadata": {
      "needs_background": "light"
     },
     "output_type": "display_data"
    },
    {
     "name": "stdout",
     "output_type": "stream",
     "text": [
      "ネ ス ヤ \n",
      "Number of naive seg: 9\n",
      "Number of smart seg: 6\n"
     ]
    },
    {
     "data": {
      "image/png": "[encoded data removed]",
      "text/plain": [
       "<Figure size 432x288 with 1 Axes>"
      ]
     },
     "metadata": {
      "needs_background": "light"
     },
     "output_type": "display_data"
    },
    {
     "name": "stdout",
     "output_type": "stream",
     "text": [
      "class number: [14]\n",
      "class number: [47]\n",
      "class number: [33]\n",
      "class number: [19]\n",
      "class number: [45]\n",
      "class number: [5]\n"
     ]
    },
    {
     "data": {
      "image/png": "[encoded data removed]",
      "text/plain": [
       "<Figure size 432x288 with 1 Axes>"
      ]
     },
     "metadata": {
      "needs_background": "light"
     },
     "output_type": "display_data"
    },
    {
     "name": "stdout",
     "output_type": "stream",
     "text": [
      "シ ン マ チ ロ ウ \n",
      "Number of naive seg: 2\n",
      "Number of smart seg: 2\n"
     ]
    },
    {
     "data": {
      "image/png": "[encoded data removed]",
      "text/plain": [
       "<Figure size 432x288 with 1 Axes>"
      ]
     },
     "metadata": {
      "needs_background": "light"
     },
     "output_type": "display_data"
    },
    {
     "name": "stdout",
     "output_type": "stream",
     "text": [
      "class number: [9]\n",
      "class number: [25]\n"
     ]
    },
    {
     "data": {
      "image/png": "[encoded data removed]",
      "text/plain": [
       "<Figure size 432x288 with 1 Axes>"
      ]
     },
     "metadata": {
      "needs_background": "light"
     },
     "output_type": "display_data"
    },
    {
     "name": "stdout",
     "output_type": "stream",
     "text": [
      "キ ヌ \n",
      "Number of naive seg: 3\n",
      "Number of smart seg: 3\n"
     ]
    },
    {
     "data": {
      "image/png": "[encoded data removed]",
      "text/plain": [
       "<Figure size 432x288 with 1 Axes>"
      ]
     },
     "metadata": {
      "needs_background": "light"
     },
     "output_type": "display_data"
    },
    {
     "name": "stdout",
     "output_type": "stream",
     "text": [
      "class number: [39]\n",
      "class number: [41]\n",
      "class number: [15]\n"
     ]
    },
    {
     "data": {
      "image/png": "[encoded data removed]",
      "text/plain": [
       "<Figure size 432x288 with 1 Axes>"
      ]
     },
     "metadata": {
      "needs_background": "light"
     },
     "output_type": "display_data"
    },
    {
     "name": "stdout",
     "output_type": "stream",
     "text": [
      "ユ ラ ス \n",
      "Number of naive seg: 3\n",
      "Number of smart seg: 3\n"
     ]
    },
    {
     "data": {
      "image/png": "[encoded data removed]",
      "text/plain": [
       "<Figure size 432x288 with 1 Axes>"
      ]
     },
     "metadata": {
      "needs_background": "light"
     },
     "output_type": "display_data"
    },
    {
     "name": "stdout",
     "output_type": "stream",
     "text": [
      "class number: [8]\n",
      "class number: [15]\n",
      "class number: [38]\n"
     ]
    },
    {
     "data": {
      "image/png": "[encoded data removed]",
      "text/plain": [
       "<Figure size 432x288 with 1 Axes>"
      ]
     },
     "metadata": {
      "needs_background": "light"
     },
     "output_type": "display_data"
    },
    {
     "name": "stdout",
     "output_type": "stream",
     "text": [
      "カ ス ヤ \n",
      "Number of naive seg: 4\n",
      "Number of smart seg: 4\n"
     ]
    },
    {
     "data": {
      "image/png": "[encoded data removed]",
      "text/plain": [
       "<Figure size 432x288 with 1 Axes>"
      ]
     },
     "metadata": {
      "needs_background": "light"
     },
     "output_type": "display_data"
    },
    {
     "name": "stdout",
     "output_type": "stream",
     "text": [
      "class number: [35]\n",
      "class number: [7]\n",
      "class number: [9]\n",
      "class number: [44]\n"
     ]
    },
    {
     "data": {
      "image/png": "[encoded data removed]",
      "text/plain": [
       "<Figure size 432x288 with 1 Axes>"
      ]
     },
     "metadata": {
      "needs_background": "light"
     },
     "output_type": "display_data"
    },
    {
     "name": "stdout",
     "output_type": "stream",
     "text": [
      "ム オ キ レ \n"
     ]
    }
   ],
   "source": [
    "for i in range(13, 22):\n",
    "    p = f'/Users/binhna/Downloads/test_image/kata_{i}.png'\n",
    "    #print(p)\n",
    "    app(p, kata_model, i2cls_kata, 'kata')\n",
    "\n",
    "\n"
   ]
  },
  {
   "cell_type": "code",
   "execution_count": null,
   "metadata": {},
   "outputs": [],
   "source": []
  }
 ],
 "metadata": {
  "kernelspec": {
   "display_name": "Python (conda)",
   "language": "python",
   "name": "ocr"
  },
  "language_info": {
   "codemirror_mode": {
    "name": "ipython",
    "version": 3
   },
   "file_extension": ".py",
   "mimetype": "text/x-python",
   "name": "python",
   "nbconvert_exporter": "python",
   "pygments_lexer": "ipython3",
   "version": "3.7.3"
  }
 },
 "nbformat": 4,
 "nbformat_minor": 2
}
